{
 "cells": [
  {
   "cell_type": "code",
   "execution_count": 1,
   "id": "820be8b0-ff9f-4580-b503-ed58282b1ee7",
   "metadata": {},
   "outputs": [],
   "source": [
    "import pyspark\n",
    "from pyspark.sql import SparkSession"
   ]
  },
  {
   "cell_type": "code",
   "execution_count": 2,
   "id": "f5fde55f-b998-4c3c-ac46-47265998d582",
   "metadata": {},
   "outputs": [
    {
     "name": "stderr",
     "output_type": "stream",
     "text": [
      "24/06/09 14:11:20 WARN Utils: Your hostname, truongvude resolves to a loopback address: 127.0.1.1; using 192.168.0.105 instead (on interface wlp4s0)\n",
      "24/06/09 14:11:20 WARN Utils: Set SPARK_LOCAL_IP if you need to bind to another address\n",
      "Setting default log level to \"WARN\".\n",
      "To adjust logging level use sc.setLogLevel(newLevel). For SparkR, use setLogLevel(newLevel).\n",
      "24/06/09 14:11:21 WARN NativeCodeLoader: Unable to load native-hadoop library for your platform... using builtin-java classes where applicable\n"
     ]
    }
   ],
   "source": [
    "spark = SparkSession.builder \\\n",
    "    .master(\"local[*]\") \\\n",
    "    .appName(\"test\") \\\n",
    "    .getOrCreate()"
   ]
  },
  {
   "cell_type": "code",
   "execution_count": 50,
   "id": "0fbe0c01-2ce3-41e2-be17-130dcdfbb247",
   "metadata": {},
   "outputs": [],
   "source": [
    "df_fhv = spark.read.parquet(\"data/pq/fhv/*\")"
   ]
  },
  {
   "cell_type": "code",
   "execution_count": 51,
   "id": "2c843ae6-7eed-4a00-b90f-772545d8a8f8",
   "metadata": {},
   "outputs": [
    {
     "name": "stdout",
     "output_type": "stream",
     "text": [
      "+--------------------+-------------------+-------------------+------------+------------+-------+----------------------+\n",
      "|dispatching_base_num|    pickup_datetime|   dropOff_datetime|PUlocationID|DOlocationID|SR_Flag|Affiliated_base_number|\n",
      "+--------------------+-------------------+-------------------+------------+------------+-------+----------------------+\n",
      "|              B01455|2019-10-02 16:10:49|2019-10-02 16:18:10|         264|         173|   NULL|                B01455|\n",
      "|              B01559|2019-10-02 22:07:18|2019-10-02 22:30:18|         264|         264|   NULL|                B01559|\n",
      "|              B01800|2019-10-04 13:16:00|2019-10-04 15:22:00|         264|         264|   NULL|                B01800|\n",
      "|              B02613|2019-10-02 23:36:26|2019-10-02 23:36:27|         264|          39|   NULL|                B02613|\n",
      "|              B01964|2019-10-02 20:26:00|2019-10-02 21:42:37|         132|         230|   NULL|                B01964|\n",
      "|              B02245|2019-10-03 19:10:37|2019-10-03 19:33:59|         264|          89|   NULL|                B02245|\n",
      "|              B01051|2019-10-01 18:32:36|2019-10-01 18:45:59|         264|         235|   NULL|                B01051|\n",
      "|              B02550|2019-10-02 10:51:18|2019-10-02 11:20:13|         264|         244|   NULL|                B02550|\n",
      "|              B03060|2019-10-01 13:33:31|2019-10-01 13:49:13|         264|         155|   NULL|                B02875|\n",
      "|              B02120|2019-10-02 16:00:00|2019-10-02 16:53:00|         264|         264|   NULL|                B02120|\n",
      "|              B01069|2019-10-03 08:28:32|2019-10-03 08:34:19|         264|         216|   NULL|                B01069|\n",
      "|              B01730|2019-10-01 13:27:44|2019-10-01 13:53:15|         264|         148|   NULL|                B02096|\n",
      "|              B00271|2019-10-02 17:52:14|2019-10-02 17:56:18|         264|         152|   NULL|                B02884|\n",
      "|              B00095|2019-10-02 09:41:10|2019-10-02 09:44:54|         264|         198|   NULL|                B00095|\n",
      "|              B00381|2019-10-01 06:40:15|2019-10-01 06:40:47|         264|         264|   NULL|                B00381|\n",
      "|              B01455|2019-10-01 11:07:27|2019-10-01 11:16:25|         264|         129|   NULL|                B01455|\n",
      "|              B00014|2019-10-01 18:19:40|2019-10-01 18:32:45|         264|         264|   NULL|                B00014|\n",
      "|              B01239|2019-10-02 12:57:48|2019-10-02 13:16:54|         264|         242|   NULL|                B01239|\n",
      "|              B00310|2019-10-01 14:30:57|2019-10-01 14:53:21|         264|          41|   NULL|                B00310|\n",
      "|              B00429|2019-10-03 21:19:00|2019-10-03 21:28:00|         264|         264|   NULL|                B00429|\n",
      "+--------------------+-------------------+-------------------+------------+------------+-------+----------------------+\n",
      "only showing top 20 rows\n",
      "\n"
     ]
    }
   ],
   "source": [
    "df_fhv.show()"
   ]
  },
  {
   "cell_type": "code",
   "execution_count": 33,
   "id": "4d7f2114-3ab9-4937-9062-54588a53cf04",
   "metadata": {},
   "outputs": [],
   "source": [
    "df_zones = spark.read \\\n",
    "    .option(\"header\", \"true\") \\\n",
    "    .csv(\"taxi_zone_lookup.csv\")"
   ]
  },
  {
   "cell_type": "code",
   "execution_count": 34,
   "id": "4b3b8531-bad7-4c48-bbd9-e6ad62ece132",
   "metadata": {},
   "outputs": [
    {
     "name": "stdout",
     "output_type": "stream",
     "text": [
      "+----------+-------------+--------------------+------------+\n",
      "|LocationID|      Borough|                Zone|service_zone|\n",
      "+----------+-------------+--------------------+------------+\n",
      "|         1|          EWR|      Newark Airport|         EWR|\n",
      "|         2|       Queens|         Jamaica Bay|   Boro Zone|\n",
      "|         3|        Bronx|Allerton/Pelham G...|   Boro Zone|\n",
      "|         4|    Manhattan|       Alphabet City| Yellow Zone|\n",
      "|         5|Staten Island|       Arden Heights|   Boro Zone|\n",
      "|         6|Staten Island|Arrochar/Fort Wad...|   Boro Zone|\n",
      "|         7|       Queens|             Astoria|   Boro Zone|\n",
      "|         8|       Queens|        Astoria Park|   Boro Zone|\n",
      "|         9|       Queens|          Auburndale|   Boro Zone|\n",
      "|        10|       Queens|        Baisley Park|   Boro Zone|\n",
      "|        11|     Brooklyn|          Bath Beach|   Boro Zone|\n",
      "|        12|    Manhattan|        Battery Park| Yellow Zone|\n",
      "|        13|    Manhattan|   Battery Park City| Yellow Zone|\n",
      "|        14|     Brooklyn|           Bay Ridge|   Boro Zone|\n",
      "|        15|       Queens|Bay Terrace/Fort ...|   Boro Zone|\n",
      "|        16|       Queens|             Bayside|   Boro Zone|\n",
      "|        17|     Brooklyn|             Bedford|   Boro Zone|\n",
      "|        18|        Bronx|        Bedford Park|   Boro Zone|\n",
      "|        19|       Queens|           Bellerose|   Boro Zone|\n",
      "|        20|        Bronx|             Belmont|   Boro Zone|\n",
      "+----------+-------------+--------------------+------------+\n",
      "only showing top 20 rows\n",
      "\n"
     ]
    }
   ],
   "source": [
    "df_zones.show()"
   ]
  },
  {
   "cell_type": "code",
   "execution_count": 35,
   "id": "0667d07b-4ef5-488d-be8f-6e1bb205a94f",
   "metadata": {},
   "outputs": [],
   "source": [
    "import pandas as pd"
   ]
  },
  {
   "cell_type": "code",
   "execution_count": 36,
   "id": "20614f0b-f873-4e73-8975-ac3001fd22f6",
   "metadata": {},
   "outputs": [],
   "source": [
    "df_zones_pd = pd.read_csv(\"taxi_zone_lookup.csv\", nrows = 1000)"
   ]
  },
  {
   "cell_type": "code",
   "execution_count": 37,
   "id": "0ab59082-0258-4d32-be32-3569a5f075d4",
   "metadata": {},
   "outputs": [
    {
     "data": {
      "text/plain": [
       "StructType([StructField('LocationID', LongType(), True), StructField('Borough', StringType(), True), StructField('Zone', StringType(), True), StructField('service_zone', StringType(), True)])"
      ]
     },
     "execution_count": 37,
     "metadata": {},
     "output_type": "execute_result"
    }
   ],
   "source": [
    "spark.createDataFrame(df_zones_pd).schema"
   ]
  },
  {
   "cell_type": "code",
   "execution_count": 38,
   "id": "629eda22-e222-4cad-9bac-386cd2d32ec7",
   "metadata": {},
   "outputs": [],
   "source": [
    "from pyspark.sql import types"
   ]
  },
  {
   "cell_type": "code",
   "execution_count": 39,
   "id": "4a159160-8def-4c92-8c25-ebb98c526862",
   "metadata": {},
   "outputs": [],
   "source": [
    "zones_schema = types.StructType([\n",
    "types.StructField('LocationID', types.IntegerType(), True), \n",
    "types.StructField('Borough', types.StringType(), True), \n",
    "types.StructField('Zone', types.StringType(), True), \n",
    "types.StructField('service_zone', types.StringType(), True)])"
   ]
  },
  {
   "cell_type": "code",
   "execution_count": 44,
   "id": "39b7ca32-a148-42f9-be92-2fd70fef8695",
   "metadata": {},
   "outputs": [],
   "source": [
    "df_zones = spark.read \\\n",
    "    .option(\"header\", \"true\") \\\n",
    "    .schema(zones_schema) \\\n",
    "    .csv(\"taxi_zone_lookup.csv\")"
   ]
  },
  {
   "cell_type": "code",
   "execution_count": 47,
   "id": "5f92e75f-18b7-4213-9388-d96ffdd24f18",
   "metadata": {},
   "outputs": [],
   "source": [
    "df_zones.write.parquet(\"data/pq/zones\", mode=\"overwrite\")"
   ]
  },
  {
   "cell_type": "code",
   "execution_count": 73,
   "id": "9af00cfd-5e65-43cc-8e4a-f502648cabf2",
   "metadata": {},
   "outputs": [],
   "source": [
    "df_fhv = spark.read.parquet(\"data/pq/fhv/*\")"
   ]
  },
  {
   "cell_type": "code",
   "execution_count": 72,
   "id": "2a438710-0503-4d3b-9a23-50b7ebdabe9c",
   "metadata": {},
   "outputs": [],
   "source": [
    "df_zones = spark.read.parquet(\"data/pq/zones/*\")"
   ]
  },
  {
   "cell_type": "code",
   "execution_count": 74,
   "id": "be66dcab-2862-4768-8cea-87a6e562f2ac",
   "metadata": {},
   "outputs": [],
   "source": [
    "df_result = df_fhv.join(df_zones, df_fhv.PUlocationID == df_zones.LocationID)"
   ]
  },
  {
   "cell_type": "code",
   "execution_count": 75,
   "id": "691a461c-2ee8-42fe-a637-c1d3630a5278",
   "metadata": {},
   "outputs": [
    {
     "name": "stdout",
     "output_type": "stream",
     "text": [
      "+--------------------+-------------------+-------------------+------------+------------+-------+----------------------+----------+-------+-----------+------------+\n",
      "|dispatching_base_num|    pickup_datetime|   dropOff_datetime|PUlocationID|DOlocationID|SR_Flag|Affiliated_base_number|LocationID|Borough|       Zone|service_zone|\n",
      "+--------------------+-------------------+-------------------+------------+------------+-------+----------------------+----------+-------+-----------+------------+\n",
      "|              B01455|2019-10-02 16:10:49|2019-10-02 16:18:10|         264|         173|   NULL|                B01455|       264|Unknown|         NV|         N/A|\n",
      "|              B01559|2019-10-02 22:07:18|2019-10-02 22:30:18|         264|         264|   NULL|                B01559|       264|Unknown|         NV|         N/A|\n",
      "|              B01800|2019-10-04 13:16:00|2019-10-04 15:22:00|         264|         264|   NULL|                B01800|       264|Unknown|         NV|         N/A|\n",
      "|              B02613|2019-10-02 23:36:26|2019-10-02 23:36:27|         264|          39|   NULL|                B02613|       264|Unknown|         NV|         N/A|\n",
      "|              B01964|2019-10-02 20:26:00|2019-10-02 21:42:37|         132|         230|   NULL|                B01964|       132| Queens|JFK Airport|    Airports|\n",
      "|              B02245|2019-10-03 19:10:37|2019-10-03 19:33:59|         264|          89|   NULL|                B02245|       264|Unknown|         NV|         N/A|\n",
      "|              B01051|2019-10-01 18:32:36|2019-10-01 18:45:59|         264|         235|   NULL|                B01051|       264|Unknown|         NV|         N/A|\n",
      "|              B02550|2019-10-02 10:51:18|2019-10-02 11:20:13|         264|         244|   NULL|                B02550|       264|Unknown|         NV|         N/A|\n",
      "|              B03060|2019-10-01 13:33:31|2019-10-01 13:49:13|         264|         155|   NULL|                B02875|       264|Unknown|         NV|         N/A|\n",
      "|              B02120|2019-10-02 16:00:00|2019-10-02 16:53:00|         264|         264|   NULL|                B02120|       264|Unknown|         NV|         N/A|\n",
      "|              B01069|2019-10-03 08:28:32|2019-10-03 08:34:19|         264|         216|   NULL|                B01069|       264|Unknown|         NV|         N/A|\n",
      "|              B01730|2019-10-01 13:27:44|2019-10-01 13:53:15|         264|         148|   NULL|                B02096|       264|Unknown|         NV|         N/A|\n",
      "|              B00271|2019-10-02 17:52:14|2019-10-02 17:56:18|         264|         152|   NULL|                B02884|       264|Unknown|         NV|         N/A|\n",
      "|              B00095|2019-10-02 09:41:10|2019-10-02 09:44:54|         264|         198|   NULL|                B00095|       264|Unknown|         NV|         N/A|\n",
      "|              B00381|2019-10-01 06:40:15|2019-10-01 06:40:47|         264|         264|   NULL|                B00381|       264|Unknown|         NV|         N/A|\n",
      "|              B01455|2019-10-01 11:07:27|2019-10-01 11:16:25|         264|         129|   NULL|                B01455|       264|Unknown|         NV|         N/A|\n",
      "|              B00014|2019-10-01 18:19:40|2019-10-01 18:32:45|         264|         264|   NULL|                B00014|       264|Unknown|         NV|         N/A|\n",
      "|              B01239|2019-10-02 12:57:48|2019-10-02 13:16:54|         264|         242|   NULL|                B01239|       264|Unknown|         NV|         N/A|\n",
      "|              B00310|2019-10-01 14:30:57|2019-10-01 14:53:21|         264|          41|   NULL|                B00310|       264|Unknown|         NV|         N/A|\n",
      "|              B00429|2019-10-03 21:19:00|2019-10-03 21:28:00|         264|         264|   NULL|                B00429|       264|Unknown|         NV|         N/A|\n",
      "+--------------------+-------------------+-------------------+------------+------------+-------+----------------------+----------+-------+-----------+------------+\n",
      "only showing top 20 rows\n",
      "\n"
     ]
    }
   ],
   "source": [
    "df_result.show()"
   ]
  },
  {
   "cell_type": "code",
   "execution_count": 76,
   "id": "63ee0679-05a6-4545-ae99-2823cfffb6cd",
   "metadata": {},
   "outputs": [
    {
     "name": "stderr",
     "output_type": "stream",
     "text": [
      "/home/truongvude/spark/spark-3.5.1-bin-hadoop3/python/pyspark/sql/dataframe.py:329: FutureWarning: Deprecated in 2.0, use createOrReplaceTempView instead.\n",
      "  warnings.warn(\"Deprecated in 2.0, use createOrReplaceTempView instead.\", FutureWarning)\n"
     ]
    }
   ],
   "source": [
    "df_result.registerTempTable(\"result\")"
   ]
  },
  {
   "cell_type": "code",
   "execution_count": 91,
   "id": "56978fd1-96b5-490e-8c2c-aa21ad57f55a",
   "metadata": {},
   "outputs": [],
   "source": [
    "q6_result = spark.sql(\"\"\"\n",
    "SELECT Zone, COUNT(*)\n",
    "FROM result\n",
    "GROUP BY 1\n",
    "ORDER BY 2\n",
    "\"\"\")"
   ]
  },
  {
   "cell_type": "code",
   "execution_count": 92,
   "id": "e6b1e33b-c9e3-4702-82e9-43fa748fbc6c",
   "metadata": {
    "scrolled": true
   },
   "outputs": [
    {
     "name": "stdout",
     "output_type": "stream",
     "text": [
      "+--------------------+--------+\n",
      "|                Zone|count(1)|\n",
      "+--------------------+--------+\n",
      "|         Jamaica Bay|       1|\n",
      "|Governor's Island...|       2|\n",
      "| Green-Wood Cemetery|       5|\n",
      "|       Broad Channel|       8|\n",
      "|     Highbridge Park|      14|\n",
      "|        Battery Park|      15|\n",
      "|Saint Michaels Ce...|      23|\n",
      "|Breezy Point/Fort...|      25|\n",
      "|Marine Park/Floyd...|      26|\n",
      "|        Astoria Park|      29|\n",
      "|    Inwood Hill Park|      39|\n",
      "|       Willets Point|      47|\n",
      "|Forest Park/Highl...|      53|\n",
      "|  Brooklyn Navy Yard|      57|\n",
      "|        Crotona Park|      62|\n",
      "|        Country Club|      77|\n",
      "|     Freshkills Park|      89|\n",
      "|       Prospect Park|      98|\n",
      "|     Columbia Street|     105|\n",
      "|  South Williamsburg|     110|\n",
      "+--------------------+--------+\n",
      "only showing top 20 rows\n",
      "\n"
     ]
    }
   ],
   "source": [
    "q6_result.show()"
   ]
  },
  {
   "cell_type": "code",
   "execution_count": null,
   "id": "546025b5-dc9d-48fa-8d3f-97a9965f58a5",
   "metadata": {},
   "outputs": [],
   "source": []
  }
 ],
 "metadata": {
  "kernelspec": {
   "display_name": "Python 3 (ipykernel)",
   "language": "python",
   "name": "python3"
  },
  "language_info": {
   "codemirror_mode": {
    "name": "ipython",
    "version": 3
   },
   "file_extension": ".py",
   "mimetype": "text/x-python",
   "name": "python",
   "nbconvert_exporter": "python",
   "pygments_lexer": "ipython3",
   "version": "3.10.12"
  }
 },
 "nbformat": 4,
 "nbformat_minor": 5
}
