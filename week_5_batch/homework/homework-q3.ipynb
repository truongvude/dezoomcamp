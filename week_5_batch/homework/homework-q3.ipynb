{
 "cells": [
  {
   "cell_type": "code",
   "execution_count": 1,
   "id": "6b56192e-d950-44ec-b50e-16101358c31f",
   "metadata": {},
   "outputs": [],
   "source": [
    "import pyspark\n",
    "from pyspark.sql import SparkSession"
   ]
  },
  {
   "cell_type": "code",
   "execution_count": 3,
   "id": "177e4dd1-28b6-4dd2-96fd-fd5112cb3f0f",
   "metadata": {},
   "outputs": [
    {
     "name": "stderr",
     "output_type": "stream",
     "text": [
      "24/06/09 14:23:58 WARN Utils: Your hostname, truongvude resolves to a loopback address: 127.0.1.1; using 192.168.0.105 instead (on interface wlp4s0)\n",
      "24/06/09 14:23:58 WARN Utils: Set SPARK_LOCAL_IP if you need to bind to another address\n",
      "Setting default log level to \"WARN\".\n",
      "To adjust logging level use sc.setLogLevel(newLevel). For SparkR, use setLogLevel(newLevel).\n",
      "24/06/09 14:23:58 WARN NativeCodeLoader: Unable to load native-hadoop library for your platform... using builtin-java classes where applicable\n",
      "24/06/09 14:23:59 WARN Utils: Service 'SparkUI' could not bind on port 4040. Attempting port 4041.\n",
      "24/06/09 14:23:59 WARN Utils: Service 'SparkUI' could not bind on port 4041. Attempting port 4042.\n"
     ]
    }
   ],
   "source": [
    "spark = SparkSession.builder \\\n",
    "    .master(\"local[*]\") \\\n",
    "    .appName(\"test\") \\\n",
    "    .getOrCreate()"
   ]
  },
  {
   "cell_type": "code",
   "execution_count": 4,
   "id": "df2d182d-4e43-4e86-be76-9e3369eae61f",
   "metadata": {},
   "outputs": [],
   "source": [
    "df_fhv = spark.read.parquet(\"data/pq/fhv/*\")"
   ]
  },
  {
   "cell_type": "code",
   "execution_count": 5,
   "id": "a61ec431-4a05-4d85-8a71-561f2913d90a",
   "metadata": {},
   "outputs": [
    {
     "name": "stdout",
     "output_type": "stream",
     "text": [
      "+--------------------+-------------------+-------------------+------------+------------+-------+----------------------+\n",
      "|dispatching_base_num|    pickup_datetime|   dropOff_datetime|PUlocationID|DOlocationID|SR_Flag|Affiliated_base_number|\n",
      "+--------------------+-------------------+-------------------+------------+------------+-------+----------------------+\n",
      "|              B01455|2019-10-02 16:10:49|2019-10-02 16:18:10|         264|         173|   NULL|                B01455|\n",
      "|              B01559|2019-10-02 22:07:18|2019-10-02 22:30:18|         264|         264|   NULL|                B01559|\n",
      "|              B01800|2019-10-04 13:16:00|2019-10-04 15:22:00|         264|         264|   NULL|                B01800|\n",
      "|              B02613|2019-10-02 23:36:26|2019-10-02 23:36:27|         264|          39|   NULL|                B02613|\n",
      "|              B01964|2019-10-02 20:26:00|2019-10-02 21:42:37|         132|         230|   NULL|                B01964|\n",
      "|              B02245|2019-10-03 19:10:37|2019-10-03 19:33:59|         264|          89|   NULL|                B02245|\n",
      "|              B01051|2019-10-01 18:32:36|2019-10-01 18:45:59|         264|         235|   NULL|                B01051|\n",
      "|              B02550|2019-10-02 10:51:18|2019-10-02 11:20:13|         264|         244|   NULL|                B02550|\n",
      "|              B03060|2019-10-01 13:33:31|2019-10-01 13:49:13|         264|         155|   NULL|                B02875|\n",
      "|              B02120|2019-10-02 16:00:00|2019-10-02 16:53:00|         264|         264|   NULL|                B02120|\n",
      "|              B01069|2019-10-03 08:28:32|2019-10-03 08:34:19|         264|         216|   NULL|                B01069|\n",
      "|              B01730|2019-10-01 13:27:44|2019-10-01 13:53:15|         264|         148|   NULL|                B02096|\n",
      "|              B00271|2019-10-02 17:52:14|2019-10-02 17:56:18|         264|         152|   NULL|                B02884|\n",
      "|              B00095|2019-10-02 09:41:10|2019-10-02 09:44:54|         264|         198|   NULL|                B00095|\n",
      "|              B00381|2019-10-01 06:40:15|2019-10-01 06:40:47|         264|         264|   NULL|                B00381|\n",
      "|              B01455|2019-10-01 11:07:27|2019-10-01 11:16:25|         264|         129|   NULL|                B01455|\n",
      "|              B00014|2019-10-01 18:19:40|2019-10-01 18:32:45|         264|         264|   NULL|                B00014|\n",
      "|              B01239|2019-10-02 12:57:48|2019-10-02 13:16:54|         264|         242|   NULL|                B01239|\n",
      "|              B00310|2019-10-01 14:30:57|2019-10-01 14:53:21|         264|          41|   NULL|                B00310|\n",
      "|              B00429|2019-10-03 21:19:00|2019-10-03 21:28:00|         264|         264|   NULL|                B00429|\n",
      "+--------------------+-------------------+-------------------+------------+------------+-------+----------------------+\n",
      "only showing top 20 rows\n",
      "\n"
     ]
    }
   ],
   "source": [
    "df_fhv.show()"
   ]
  },
  {
   "cell_type": "code",
   "execution_count": 6,
   "id": "501fbab5-e7a9-495c-a27a-84fa0437122f",
   "metadata": {},
   "outputs": [
    {
     "name": "stderr",
     "output_type": "stream",
     "text": [
      "/home/truongvude/spark/spark-3.5.1-bin-hadoop3/python/pyspark/sql/dataframe.py:329: FutureWarning: Deprecated in 2.0, use createOrReplaceTempView instead.\n",
      "  warnings.warn(\"Deprecated in 2.0, use createOrReplaceTempView instead.\", FutureWarning)\n"
     ]
    }
   ],
   "source": [
    "df_fhv.registerTempTable(\"fhv\")"
   ]
  },
  {
   "cell_type": "code",
   "execution_count": 7,
   "id": "fbbe5c50-dfcc-45f1-85a9-c2d888273ead",
   "metadata": {},
   "outputs": [
    {
     "name": "stderr",
     "output_type": "stream",
     "text": [
      "24/06/09 14:24:11 WARN GarbageCollectionMetrics: To enable non-built-in garbage collector(s) List(G1 Concurrent GC), users should configure it(them) to spark.eventLog.gcMetrics.youngGenerationGarbageCollectors or spark.eventLog.gcMetrics.oldGenerationGarbageCollectors\n"
     ]
    }
   ],
   "source": [
    "df_result = spark.sql(\"\"\"\n",
    "SELECT COUNT(*)\n",
    "FROM fhv\n",
    "WHERE pickup_datetime BETWEEN \"2019-10-15 00:00:00\" AND \"2019-10-15 23:59:59\"\n",
    "\"\"\")"
   ]
  },
  {
   "cell_type": "code",
   "execution_count": 8,
   "id": "8d3b1153-bd29-40df-8933-264ab2ad6f14",
   "metadata": {},
   "outputs": [
    {
     "name": "stdout",
     "output_type": "stream",
     "text": [
      "+--------+\n",
      "|count(1)|\n",
      "+--------+\n",
      "|   62610|\n",
      "+--------+\n",
      "\n"
     ]
    }
   ],
   "source": [
    "df_result.show()"
   ]
  },
  {
   "cell_type": "code",
   "execution_count": null,
   "id": "c46f913d-b3a8-482f-81a0-310cdad3cddc",
   "metadata": {},
   "outputs": [],
   "source": []
  }
 ],
 "metadata": {
  "kernelspec": {
   "display_name": "Python 3 (ipykernel)",
   "language": "python",
   "name": "python3"
  },
  "language_info": {
   "codemirror_mode": {
    "name": "ipython",
    "version": 3
   },
   "file_extension": ".py",
   "mimetype": "text/x-python",
   "name": "python",
   "nbconvert_exporter": "python",
   "pygments_lexer": "ipython3",
   "version": "3.10.12"
  }
 },
 "nbformat": 4,
 "nbformat_minor": 5
}
