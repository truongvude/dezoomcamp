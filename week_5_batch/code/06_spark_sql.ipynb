{
 "cells": [
  {
   "cell_type": "code",
   "execution_count": 1,
   "id": "9dc141b9-c582-4629-9f27-8b80e1d52be2",
   "metadata": {},
   "outputs": [
    {
     "name": "stderr",
     "output_type": "stream",
     "text": [
      "24/06/08 00:21:06 WARN Utils: Your hostname, truongvude resolves to a loopback address: 127.0.1.1; using 192.168.0.105 instead (on interface wlp4s0)\n",
      "24/06/08 00:21:06 WARN Utils: Set SPARK_LOCAL_IP if you need to bind to another address\n",
      "Setting default log level to \"WARN\".\n",
      "To adjust logging level use sc.setLogLevel(newLevel). For SparkR, use setLogLevel(newLevel).\n",
      "24/06/08 00:21:06 WARN NativeCodeLoader: Unable to load native-hadoop library for your platform... using builtin-java classes where applicable\n"
     ]
    }
   ],
   "source": [
    "import pyspark\n",
    "from pyspark.sql import SparkSession\n",
    "\n",
    "spark = SparkSession.builder \\\n",
    "    .master(\"spark://truongvude:7077\") \\\n",
    "    .appName(\"test\") \\\n",
    "    .getOrCreate()"
   ]
  },
  {
   "cell_type": "code",
   "execution_count": 3,
   "id": "034214b1-d2f3-4c9e-a079-e8c8b118eae3",
   "metadata": {},
   "outputs": [
    {
     "name": "stderr",
     "output_type": "stream",
     "text": [
      "                                                                                \r"
     ]
    }
   ],
   "source": [
    "df_green = spark.read.parquet(\"data/pq/green/*/*\")"
   ]
  },
  {
   "cell_type": "code",
   "execution_count": 4,
   "id": "47c826c2-09bc-4b15-934c-ffbab9c4a2bc",
   "metadata": {},
   "outputs": [
    {
     "name": "stderr",
     "output_type": "stream",
     "text": [
      "                                                                                \r"
     ]
    },
    {
     "name": "stdout",
     "output_type": "stream",
     "text": [
      "+--------+--------------------+---------------------+------------------+----------+------------+------------+---------------+-------------+-----------+-----+-------+----------+------------+---------+---------------------+------------+------------+---------+--------------------+\n",
      "|VendorID|lpep_pickup_datetime|lpep_dropoff_datetime|store_and_fwd_flag|RatecodeID|PULocationID|DOLocationID|passenger_count|trip_distance|fare_amount|extra|mta_tax|tip_amount|tolls_amount|ehail_fee|improvement_surcharge|total_amount|payment_type|trip_type|congestion_surcharge|\n",
      "+--------+--------------------+---------------------+------------------+----------+------------+------------+---------------+-------------+-----------+-----+-------+----------+------------+---------+---------------------+------------+------------+---------+--------------------+\n",
      "|       1| 2020-01-03 19:00:01|  2020-01-03 19:05:48|                 N|         1|         244|         116|              1|          1.0|        6.0|  1.0|    0.5|       1.0|         0.0|     NULL|                  0.3|         8.8|           1|        1|                 0.0|\n",
      "|       2| 2020-01-29 19:55:01|  2020-01-29 19:59:12|                 N|         1|         166|          24|              1|         0.82|        5.0|  1.0|    0.5|      1.36|         0.0|     NULL|                  0.3|        8.16|           1|        1|                 0.0|\n",
      "|       1| 2020-01-02 10:20:42|  2020-01-02 10:21:07|                 N|         1|         145|         145|              1|          0.0|        2.5|  0.0|    0.5|       0.0|         0.0|     NULL|                  0.3|         3.3|           2|        1|                 0.0|\n",
      "|    NULL| 2020-01-23 10:24:00|  2020-01-23 10:33:00|              NULL|      NULL|         101|         203|           NULL|         4.88|      28.74| 2.75|    0.0|       0.0|         0.0|     NULL|                  0.3|       31.79|        NULL|     NULL|                NULL|\n",
      "|       2| 2020-01-12 17:30:50|  2020-01-12 17:34:31|                 N|         1|          74|          74|              1|         0.34|        4.5|  0.0|    0.5|       0.0|         0.0|     NULL|                  0.3|         5.3|           2|        1|                 0.0|\n",
      "|       2| 2020-01-27 19:33:09|  2020-01-27 19:40:47|                 N|         1|         134|         135|              5|         1.59|        7.5|  1.0|    0.5|      2.79|         0.0|     NULL|                  0.3|       12.09|           1|        1|                 0.0|\n",
      "|       2| 2020-01-24 21:25:12|  2020-01-24 21:27:41|                 N|         1|          42|          42|              1|         0.74|        4.5|  0.5|    0.5|      1.45|         0.0|     NULL|                  0.3|        7.25|           1|        1|                 0.0|\n",
      "|       2| 2020-01-04 17:06:40|  2020-01-04 17:23:26|                 N|         1|          82|         223|              2|         4.34|       15.5|  0.0|    0.5|      3.26|         0.0|     NULL|                  0.3|       19.56|           1|        1|                 0.0|\n",
      "|    NULL| 2020-01-07 05:46:00|  2020-01-07 06:09:00|              NULL|      NULL|         222|          80|           NULL|         5.74|      26.33| 2.75|    0.5|       0.0|         0.0|     NULL|                  0.3|       29.88|        NULL|     NULL|                NULL|\n",
      "|    NULL| 2020-01-08 17:18:00|  2020-01-08 17:51:00|              NULL|      NULL|         226|         167|           NULL|          6.5|       21.5|  0.0|    0.0|       0.0|        6.12|     NULL|                  0.3|       27.92|        NULL|     NULL|                NULL|\n",
      "|       2| 2020-01-03 15:02:31|  2020-01-03 15:10:40|                 N|         1|          41|          42|              1|         0.98|        6.5|  0.0|    0.5|       0.0|         0.0|     NULL|                  0.3|         7.3|           2|        1|                 0.0|\n",
      "|       2| 2020-01-07 06:44:09|  2020-01-07 07:00:49|                 N|         1|          42|         151|              1|         2.65|       11.5|  0.0|    0.5|       0.0|         0.0|     NULL|                  0.3|        12.3|           2|        1|                 0.0|\n",
      "|    NULL| 2020-01-03 13:30:00|  2020-01-03 13:49:00|              NULL|      NULL|         181|          17|           NULL|         2.68|      13.02|  0.0|    0.0|       0.0|         0.0|     NULL|                  0.3|       13.32|        NULL|     NULL|                NULL|\n",
      "|       1| 2020-01-14 14:23:30|  2020-01-14 14:24:26|                 N|         1|         181|         181|              1|          0.0|        2.5|  0.0|    0.5|       0.0|         0.0|     NULL|                  0.3|         3.3|           4|        1|                 0.0|\n",
      "|    NULL| 2020-01-19 22:11:00|  2020-01-19 23:00:00|              NULL|      NULL|         142|          76|           NULL|        10.55|      44.64| 2.75|    0.0|       0.0|         0.0|     NULL|                  0.3|       47.69|        NULL|     NULL|                NULL|\n",
      "|    NULL| 2020-01-03 09:30:00|  2020-01-03 09:55:00|              NULL|      NULL|         177|          25|           NULL|         5.25|      25.95| 2.75|    0.0|       0.0|         0.0|     NULL|                  0.3|        29.0|        NULL|     NULL|                NULL|\n",
      "|       2| 2020-01-08 10:41:32|  2020-01-08 11:02:04|                 N|         1|          95|         205|              2|         6.35|       21.0|  0.0|    0.5|       0.0|         0.0|     NULL|                  0.3|        21.8|           2|        1|                 0.0|\n",
      "|       2| 2020-01-27 23:39:43|  2020-01-27 23:54:21|                 N|         1|         166|         236|              1|          3.5|       13.5|  0.5|    0.5|       0.0|         0.0|     NULL|                  0.3|       17.55|           2|        1|                2.75|\n",
      "|       2| 2020-01-29 20:00:42|  2020-01-29 20:08:36|                 N|         1|          65|          87|              1|         2.04|        8.5|  0.5|    0.5|      2.51|         0.0|     NULL|                  0.3|       15.06|           1|        1|                2.75|\n",
      "|       1| 2020-01-25 22:35:32|  2020-01-25 22:50:11|                 N|         1|         255|         148|              1|          2.8|       12.5| 3.25|    0.5|       3.3|         0.0|     NULL|                  0.3|       19.85|           1|        1|                2.75|\n",
      "+--------+--------------------+---------------------+------------------+----------+------------+------------+---------------+-------------+-----------+-----+-------+----------+------------+---------+---------------------+------------+------------+---------+--------------------+\n",
      "only showing top 20 rows\n",
      "\n"
     ]
    }
   ],
   "source": [
    "df_green.show()"
   ]
  },
  {
   "cell_type": "code",
   "execution_count": 5,
   "id": "ed0cca9e-773e-451f-a498-85002b0b6f93",
   "metadata": {},
   "outputs": [],
   "source": [
    "df_yellow = spark.read.parquet(\"data/pq/yellow/*/*\")"
   ]
  },
  {
   "cell_type": "code",
   "execution_count": 6,
   "id": "5bb07c72-6ad6-4e6a-a05b-078caa68d237",
   "metadata": {},
   "outputs": [
    {
     "data": {
      "text/plain": [
       "{'DOLocationID',\n",
       " 'PULocationID',\n",
       " 'RatecodeID',\n",
       " 'VendorID',\n",
       " 'congestion_surcharge',\n",
       " 'extra',\n",
       " 'fare_amount',\n",
       " 'improvement_surcharge',\n",
       " 'mta_tax',\n",
       " 'passenger_count',\n",
       " 'payment_type',\n",
       " 'store_and_fwd_flag',\n",
       " 'tip_amount',\n",
       " 'tolls_amount',\n",
       " 'total_amount',\n",
       " 'trip_distance'}"
      ]
     },
     "execution_count": 6,
     "metadata": {},
     "output_type": "execute_result"
    }
   ],
   "source": [
    "set(df_green.columns) & set(df_yellow.columns)"
   ]
  },
  {
   "cell_type": "code",
   "execution_count": 7,
   "id": "de5fe3b3-99d7-4e54-8eca-5148e8c89f04",
   "metadata": {},
   "outputs": [],
   "source": [
    "df_green = df_green \\\n",
    "    .withColumnRenamed(\"lpep_pickup_datetime\", \"pickup_datetime\") \\\n",
    "    .withColumnRenamed(\"lpep_dropoff_datetime\", \"dropoff_datetime\")"
   ]
  },
  {
   "cell_type": "code",
   "execution_count": 8,
   "id": "ff57dbd0-f458-4449-be1e-0965c1f6c1ea",
   "metadata": {},
   "outputs": [
    {
     "data": {
      "text/plain": [
       "['VendorID',\n",
       " 'pickup_datetime',\n",
       " 'dropoff_datetime',\n",
       " 'store_and_fwd_flag',\n",
       " 'RatecodeID',\n",
       " 'PULocationID',\n",
       " 'DOLocationID',\n",
       " 'passenger_count',\n",
       " 'trip_distance',\n",
       " 'fare_amount',\n",
       " 'extra',\n",
       " 'mta_tax',\n",
       " 'tip_amount',\n",
       " 'tolls_amount',\n",
       " 'ehail_fee',\n",
       " 'improvement_surcharge',\n",
       " 'total_amount',\n",
       " 'payment_type',\n",
       " 'trip_type',\n",
       " 'congestion_surcharge']"
      ]
     },
     "execution_count": 8,
     "metadata": {},
     "output_type": "execute_result"
    }
   ],
   "source": [
    "df_green.columns"
   ]
  },
  {
   "cell_type": "code",
   "execution_count": 30,
   "id": "6f9110ee-6622-448b-9aaf-e8ceebf2eef5",
   "metadata": {},
   "outputs": [],
   "source": [
    "df_yellow = df_yellow \\\n",
    "    .withColumnRenamed(\"tpep_pickup_datetime\", \"pickup_datetime\") \\\n",
    "    .withColumnRenamed(\"tpep_dropoff_datetime\", \"dropoff_datetime\")"
   ]
  },
  {
   "cell_type": "code",
   "execution_count": 9,
   "id": "d58478c0-e314-4bcb-9f5a-2b472829b95a",
   "metadata": {},
   "outputs": [],
   "source": [
    "common_columns = []\n",
    "\n",
    "yellow_columns = set(df_yellow.columns)\n",
    "\n",
    "for column in df_green.columns:\n",
    "    if column in yellow_columns:\n",
    "        common_columns.append(column)"
   ]
  },
  {
   "cell_type": "code",
   "execution_count": 10,
   "id": "5f8ad7f2-e65c-47ae-a856-428e7751459f",
   "metadata": {},
   "outputs": [],
   "source": [
    "from pyspark.sql import functions as F"
   ]
  },
  {
   "cell_type": "code",
   "execution_count": 11,
   "id": "3eaf9d1f-c1ca-47dd-bd09-05d9b9f12eb1",
   "metadata": {},
   "outputs": [],
   "source": [
    "df_green_sel = df_green \\\n",
    "    .select(common_columns) \\\n",
    "    .withColumn(\"service_type\", F.lit(\"green\"))"
   ]
  },
  {
   "cell_type": "code",
   "execution_count": 12,
   "id": "ca7d2b06-57a3-4959-8c24-488be36784be",
   "metadata": {},
   "outputs": [],
   "source": [
    "df_yellow_sel = df_yellow \\\n",
    "    .select(common_columns) \\\n",
    "    .withColumn(\"service_type\", F.lit(\"yellow\"))"
   ]
  },
  {
   "cell_type": "code",
   "execution_count": 13,
   "id": "433437bb-04a5-4573-bb66-40edb0de3518",
   "metadata": {},
   "outputs": [],
   "source": [
    "df_trips_data = df_green_sel.unionAll(df_yellow_sel)"
   ]
  },
  {
   "cell_type": "code",
   "execution_count": 14,
   "id": "3940a805-7379-489a-94d8-dcab6476814d",
   "metadata": {},
   "outputs": [
    {
     "name": "stderr",
     "output_type": "stream",
     "text": [
      "[Stage 3:================================================>        (17 + 3) / 20]\r"
     ]
    },
    {
     "name": "stdout",
     "output_type": "stream",
     "text": [
      "+------------+--------+\n",
      "|service_type|   count|\n",
      "+------------+--------+\n",
      "|       green| 2304517|\n",
      "|      yellow|39649199|\n",
      "+------------+--------+\n",
      "\n"
     ]
    },
    {
     "name": "stderr",
     "output_type": "stream",
     "text": [
      "24/06/08 00:31:49 ERROR StandaloneSchedulerBackend: Application has been killed. Reason: Master removed our application: KILLED\n",
      "24/06/08 00:31:49 ERROR Inbox: Ignoring error\n",
      "org.apache.spark.SparkException: Exiting due to error from cluster scheduler: Master removed our application: KILLED\n",
      "\tat org.apache.spark.errors.SparkCoreErrors$.clusterSchedulerError(SparkCoreErrors.scala:291)\n",
      "\tat org.apache.spark.scheduler.TaskSchedulerImpl.error(TaskSchedulerImpl.scala:981)\n",
      "\tat org.apache.spark.scheduler.cluster.StandaloneSchedulerBackend.dead(StandaloneSchedulerBackend.scala:165)\n",
      "\tat org.apache.spark.deploy.client.StandaloneAppClient$ClientEndpoint.markDead(StandaloneAppClient.scala:263)\n",
      "\tat org.apache.spark.deploy.client.StandaloneAppClient$ClientEndpoint$$anonfun$receive$1.applyOrElse(StandaloneAppClient.scala:170)\n",
      "\tat org.apache.spark.rpc.netty.Inbox.$anonfun$process$1(Inbox.scala:115)\n",
      "\tat org.apache.spark.rpc.netty.Inbox.safelyCall(Inbox.scala:213)\n",
      "\tat org.apache.spark.rpc.netty.Inbox.process(Inbox.scala:100)\n",
      "\tat org.apache.spark.rpc.netty.MessageLoop.org$apache$spark$rpc$netty$MessageLoop$$receiveLoop(MessageLoop.scala:75)\n",
      "\tat org.apache.spark.rpc.netty.MessageLoop$$anon$1.run(MessageLoop.scala:41)\n",
      "\tat java.base/java.util.concurrent.ThreadPoolExecutor.runWorker(ThreadPoolExecutor.java:1144)\n",
      "\tat java.base/java.util.concurrent.ThreadPoolExecutor$Worker.run(ThreadPoolExecutor.java:642)\n",
      "\tat java.base/java.lang.Thread.run(Thread.java:1570)\n"
     ]
    }
   ],
   "source": [
    "df_trips_data.groupBy(\"service_type\").count().show()"
   ]
  },
  {
   "cell_type": "code",
   "execution_count": 37,
   "id": "1a4ba9e9-e827-4849-b55d-2d4b5099347f",
   "metadata": {},
   "outputs": [],
   "source": [
    "df_trips_data.registerTempTable(\"trips_data\")"
   ]
  },
  {
   "cell_type": "code",
   "execution_count": 38,
   "id": "1d93f5db-e792-40c0-908d-0c6cee84242d",
   "metadata": {},
   "outputs": [],
   "source": [
    "df_result = spark.sql(\"\"\"\n",
    "SELECT \n",
    "    -- Reveneue grouping \n",
    "    PULocationID AS revenue_zone,\n",
    "    date_trunc(\"month\", \"pickup_datetime\") AS revenue_month, \n",
    "    service_type, \n",
    "\n",
    "    -- Revenue calculation \n",
    "    SUM(fare_amount) AS revenue_monthly_fare,\n",
    "    SUM(extra) AS revenue_monthly_extra,\n",
    "    SUM(mta_tax) AS revenue_monthly_mta_tax,\n",
    "    SUM(tip_amount) AS revenue_monthly_tip_amount,\n",
    "    SUM(tolls_amount) AS revenue_monthly_tolls_amount,\n",
    "    SUM(improvement_surcharge) AS revenue_monthly_improvement_surcharge,\n",
    "    SUM(total_amount) AS revenue_monthly_total_amount,\n",
    "\n",
    "    -- Additional calculations\n",
    "    AVG(passenger_count) AS avg_monthly_passenger_count,\n",
    "    AVG(trip_distance) AS avg_monthly_trip_distance\n",
    "FROM \n",
    "    trips_data\n",
    "GROUP BY \n",
    "    1, 2, 3\n",
    "\"\"\")"
   ]
  },
  {
   "cell_type": "code",
   "execution_count": 40,
   "id": "395d4e1d-3a9d-4ba6-8380-2a9ab8434124",
   "metadata": {},
   "outputs": [
    {
     "name": "stderr",
     "output_type": "stream",
     "text": [
      "                                                                                \r"
     ]
    }
   ],
   "source": [
    "df_result.write.parquet(\"data/report/revenue/\", mode=\"overwrite\")"
   ]
  },
  {
   "cell_type": "code",
   "execution_count": null,
   "id": "8eb77bd9-0133-408d-8c01-f7e5c729c92d",
   "metadata": {},
   "outputs": [],
   "source": []
  }
 ],
 "metadata": {
  "kernelspec": {
   "display_name": "Python 3 (ipykernel)",
   "language": "python",
   "name": "python3"
  },
  "language_info": {
   "codemirror_mode": {
    "name": "ipython",
    "version": 3
   },
   "file_extension": ".py",
   "mimetype": "text/x-python",
   "name": "python",
   "nbconvert_exporter": "python",
   "pygments_lexer": "ipython3",
   "version": "3.10.12"
  }
 },
 "nbformat": 4,
 "nbformat_minor": 5
}
