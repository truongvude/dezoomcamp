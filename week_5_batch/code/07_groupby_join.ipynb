{
 "cells": [
  {
   "cell_type": "code",
   "execution_count": 2,
   "id": "e5d77bc5-aa85-43db-bb10-78734841346e",
   "metadata": {},
   "outputs": [],
   "source": [
    "import pyspark\n",
    "from pyspark.sql import SparkSession"
   ]
  },
  {
   "cell_type": "code",
   "execution_count": 3,
   "id": "fedfc989-545a-4156-9988-00d432e87ba0",
   "metadata": {},
   "outputs": [
    {
     "name": "stderr",
     "output_type": "stream",
     "text": [
      "24/06/07 13:51:06 WARN Utils: Your hostname, truongvude resolves to a loopback address: 127.0.1.1; using 192.168.0.105 instead (on interface wlp4s0)\n",
      "24/06/07 13:51:06 WARN Utils: Set SPARK_LOCAL_IP if you need to bind to another address\n",
      "Setting default log level to \"WARN\".\n",
      "To adjust logging level use sc.setLogLevel(newLevel). For SparkR, use setLogLevel(newLevel).\n",
      "24/06/07 13:51:07 WARN NativeCodeLoader: Unable to load native-hadoop library for your platform... using builtin-java classes where applicable\n",
      "24/06/07 13:51:07 WARN Utils: Service 'SparkUI' could not bind on port 4040. Attempting port 4041.\n",
      "24/06/07 13:51:18 WARN GarbageCollectionMetrics: To enable non-built-in garbage collector(s) List(G1 Concurrent GC), users should configure it(them) to spark.eventLog.gcMetrics.youngGenerationGarbageCollectors or spark.eventLog.gcMetrics.oldGenerationGarbageCollectors\n"
     ]
    }
   ],
   "source": [
    "spark = SparkSession.builder \\\n",
    "    .master(\"local[*]\") \\\n",
    "    .appName(\"test\") \\\n",
    "    .getOrCreate()"
   ]
  },
  {
   "cell_type": "code",
   "execution_count": 4,
   "id": "d7be2d2b-36a7-4238-849a-2e5f2ca2706b",
   "metadata": {},
   "outputs": [],
   "source": [
    "df_green = spark.read.parquet(\"data/pq/green/*/*\")"
   ]
  },
  {
   "cell_type": "code",
   "execution_count": 5,
   "id": "8475e0c6-bd67-4534-8603-826dfe1cddc7",
   "metadata": {},
   "outputs": [
    {
     "name": "stderr",
     "output_type": "stream",
     "text": [
      "/home/truongvude/spark/spark-3.5.1-bin-hadoop3/python/pyspark/sql/dataframe.py:329: FutureWarning: Deprecated in 2.0, use createOrReplaceTempView instead.\n",
      "  warnings.warn(\"Deprecated in 2.0, use createOrReplaceTempView instead.\", FutureWarning)\n"
     ]
    }
   ],
   "source": [
    "df_green.registerTempTable(\"green\")"
   ]
  },
  {
   "cell_type": "code",
   "execution_count": 6,
   "id": "8352c4fa-b562-4c7f-bc48-72e2ce83f2fc",
   "metadata": {},
   "outputs": [
    {
     "data": {
      "text/plain": [
       "['VendorID',\n",
       " 'lpep_pickup_datetime',\n",
       " 'lpep_dropoff_datetime',\n",
       " 'store_and_fwd_flag',\n",
       " 'RatecodeID',\n",
       " 'PULocationID',\n",
       " 'DOLocationID',\n",
       " 'passenger_count',\n",
       " 'trip_distance',\n",
       " 'fare_amount',\n",
       " 'extra',\n",
       " 'mta_tax',\n",
       " 'tip_amount',\n",
       " 'tolls_amount',\n",
       " 'ehail_fee',\n",
       " 'improvement_surcharge',\n",
       " 'total_amount',\n",
       " 'payment_type',\n",
       " 'trip_type',\n",
       " 'congestion_surcharge']"
      ]
     },
     "execution_count": 6,
     "metadata": {},
     "output_type": "execute_result"
    }
   ],
   "source": [
    "df_green.columns"
   ]
  },
  {
   "cell_type": "code",
   "execution_count": 7,
   "id": "efcd7b71-e567-45fa-8ae0-33c7c8f9b990",
   "metadata": {},
   "outputs": [],
   "source": [
    "df_green_revenue = spark.sql(\"\"\"\n",
    "SELECT \n",
    "    date_trunc(\"hour\", lpep_pickup_datetime) AS hour, \n",
    "    PULocationID AS zone,\n",
    "    \n",
    "    SUM(total_amount) AS amount,\n",
    "    COUNT(1) AS number_records\n",
    "FROM \n",
    "    green\n",
    "WHERE\n",
    "    lpep_pickup_datetime >= \"2020-01-01 00:00:00\"\n",
    "GROUP BY \n",
    "    1, 2\n",
    "\"\"\")"
   ]
  },
  {
   "cell_type": "code",
   "execution_count": 21,
   "id": "d98d3874-caad-466f-b68e-769563af7ab9",
   "metadata": {},
   "outputs": [
    {
     "name": "stderr",
     "output_type": "stream",
     "text": [
      "24/06/06 17:52:10 WARN MemoryManager: Total allocation exceeds 95.00% (1,020,054,720 bytes) of heap memory\n",
      "Scaling row group sizes to 95.00% for 8 writers\n",
      "                                                                                \r"
     ]
    }
   ],
   "source": [
    "df_green_revenue \\\n",
    "    .repartition(20) \\\n",
    "    .write.parquet(\"data/report/revenue/green\", mode=\"overwrite\")"
   ]
  },
  {
   "cell_type": "code",
   "execution_count": 22,
   "id": "825849c1-26a2-4227-92c3-4d6a8c9e6e15",
   "metadata": {},
   "outputs": [],
   "source": [
    "df_yellow = spark.read.parquet(\"data/pq/yellow/*/*\")"
   ]
  },
  {
   "cell_type": "code",
   "execution_count": 23,
   "id": "c936f1f4-faa9-40c8-b13d-7734a1c1b115",
   "metadata": {},
   "outputs": [
    {
     "name": "stderr",
     "output_type": "stream",
     "text": [
      "/home/truongvude/spark/spark-3.5.1-bin-hadoop3/python/pyspark/sql/dataframe.py:329: FutureWarning: Deprecated in 2.0, use createOrReplaceTempView instead.\n",
      "  warnings.warn(\"Deprecated in 2.0, use createOrReplaceTempView instead.\", FutureWarning)\n"
     ]
    }
   ],
   "source": [
    "df_yellow.registerTempTable(\"yellow\")"
   ]
  },
  {
   "cell_type": "code",
   "execution_count": 24,
   "id": "b70f11cb-037b-4b76-81a4-d48401d9d496",
   "metadata": {},
   "outputs": [],
   "source": [
    "df_yellow_revenue = spark.sql(\"\"\"\n",
    "SELECT \n",
    "    date_trunc(\"hour\", tpep_pickup_datetime) AS hour, \n",
    "    PULocationID AS zone,\n",
    "    \n",
    "    SUM(total_amount) AS amount,\n",
    "    COUNT(1) AS number_records\n",
    "FROM \n",
    "    yellow\n",
    "WHERE\n",
    "    tpep_pickup_datetime >= \"2020-01-01 00:00:00\"\n",
    "GROUP BY \n",
    "    1, 2\n",
    "\"\"\")"
   ]
  },
  {
   "cell_type": "code",
   "execution_count": 11,
   "id": "97e06493-67b4-4856-8aff-bc72feb61f0f",
   "metadata": {},
   "outputs": [
    {
     "name": "stderr",
     "output_type": "stream",
     "text": [
      "                                                                                \r"
     ]
    },
    {
     "name": "stdout",
     "output_type": "stream",
     "text": [
      "+-------------------+----+------------------+--------------+\n",
      "|               hour|zone|            amount|number_records|\n",
      "+-------------------+----+------------------+--------------+\n",
      "|2020-01-01 08:00:00| 162| 767.8100000000003|            46|\n",
      "|2020-01-04 18:00:00| 140|2618.9099999999985|           169|\n",
      "|2020-01-27 16:00:00|  88|1478.9999999999995|            53|\n",
      "|2020-01-05 02:00:00| 114| 5647.420000000002|           329|\n",
      "|2020-01-19 23:00:00|  90|2217.8799999999987|           150|\n",
      "|2020-01-23 17:00:00| 140| 6545.520000000008|           364|\n",
      "|2020-01-09 11:00:00| 107|3677.2599999999966|           240|\n",
      "|2020-01-26 20:00:00| 239|2532.9399999999987|           178|\n",
      "|2020-01-03 23:00:00| 132| 24519.23999999997|           448|\n",
      "|2020-01-26 20:00:00| 236|3540.5199999999977|           242|\n",
      "|2020-01-24 19:00:00| 186|11532.320000000029|           625|\n",
      "|2020-01-24 03:00:00| 264|             249.6|            11|\n",
      "|2020-01-31 15:00:00| 143|2763.2299999999977|           182|\n",
      "|2020-01-23 21:00:00| 142|12377.530000000039|           753|\n",
      "|2020-01-23 07:00:00| 140| 4083.159999999997|           250|\n",
      "|2020-01-22 08:00:00| 141| 7261.750000000013|           488|\n",
      "|2020-01-04 09:00:00|  48| 3060.649999999997|           209|\n",
      "|2020-01-27 22:00:00| 162|  7572.97000000001|           426|\n",
      "|2020-01-04 19:00:00| 249| 4428.489999999997|           281|\n",
      "|2020-01-12 16:00:00| 107|3240.6299999999974|           191|\n",
      "+-------------------+----+------------------+--------------+\n",
      "only showing top 20 rows\n",
      "\n"
     ]
    }
   ],
   "source": [
    "df_yellow_revenue.show()"
   ]
  },
  {
   "cell_type": "code",
   "execution_count": 25,
   "id": "9771cf84-2fca-4589-8c86-a4e67c76d613",
   "metadata": {},
   "outputs": [
    {
     "name": "stderr",
     "output_type": "stream",
     "text": [
      "24/06/06 17:53:04 WARN MemoryManager: Total allocation exceeds 95.00% (1,020,054,720 bytes) of heap memory\n",
      "Scaling row group sizes to 95.00% for 8 writers\n",
      "24/06/06 17:53:04 WARN MemoryManager: Total allocation exceeds 95.00% (1,020,054,720 bytes) of heap memory\n",
      "Scaling row group sizes to 95.00% for 8 writers\n",
      "                                                                                \r"
     ]
    }
   ],
   "source": [
    "df_yellow_revenue \\\n",
    "    .repartition(20) \\\n",
    "    .write.parquet(\"data/report/revenue/yellow\", mode=\"overwrite\")"
   ]
  },
  {
   "cell_type": "code",
   "execution_count": 8,
   "id": "1d3f7371-688e-4a53-98a9-5a0b7c554ffc",
   "metadata": {},
   "outputs": [],
   "source": [
    "df_green_revenue = spark.read.parquet(\"data/report/revenue/green\")\n",
    "df_yellow_revenue = spark.read.parquet(\"data/report/revenue/yellow/\")"
   ]
  },
  {
   "cell_type": "code",
   "execution_count": 9,
   "id": "76bd4255-0870-4287-a4c6-fb1a52f0a92f",
   "metadata": {},
   "outputs": [],
   "source": [
    "df_green_revenue_tmp = df_green_revenue \\\n",
    "    .withColumnRenamed(\"amount\", \"green_amount\") \\\n",
    "    .withColumnRenamed(\"number_records\", \"green_number_record\")\n",
    "\n",
    "df_yellow_revenue_tmp = df_yellow_revenue \\\n",
    "    .withColumnRenamed(\"amount\", \"yellow_amount\") \\\n",
    "    .withColumnRenamed(\"number_records\", \"yellow_number_record\")"
   ]
  },
  {
   "cell_type": "code",
   "execution_count": 10,
   "id": "f296b592-e4f4-4fde-95c5-d1e3486b635c",
   "metadata": {},
   "outputs": [],
   "source": [
    "df_joins = df_green_revenue_tmp.join(df_yellow_revenue_tmp, on=[\"hour\", \"zone\"], how=\"outer\")"
   ]
  },
  {
   "cell_type": "code",
   "execution_count": 11,
   "id": "64b25337-813c-451f-ae7b-ea102a9945b0",
   "metadata": {},
   "outputs": [
    {
     "name": "stderr",
     "output_type": "stream",
     "text": [
      "                                                                                \r"
     ]
    },
    {
     "name": "stdout",
     "output_type": "stream",
     "text": [
      "+-------------------+----+-----------------+-------------------+------------------+--------------------+\n",
      "|               hour|zone|     green_amount|green_number_record|     yellow_amount|yellow_number_record|\n",
      "+-------------------+----+-----------------+-------------------+------------------+--------------------+\n",
      "|2020-01-01 00:00:00|   7|769.7299999999997|                 45| 455.1700000000001|                  38|\n",
      "|2020-01-01 00:00:00|  13|             NULL|               NULL|1214.8000000000002|                  56|\n",
      "|2020-01-01 00:00:00|  18|              7.8|                  1|               5.8|                   1|\n",
      "|2020-01-01 00:00:00|  32|68.94999999999999|                  2|              18.0|                   1|\n",
      "|2020-01-01 00:00:00|  34|             NULL|               NULL|              19.3|                   1|\n",
      "|2020-01-01 00:00:00|  83|94.09999999999998|                  7|               9.8|                   1|\n",
      "|2020-01-01 00:00:00|  90|             NULL|               NULL| 5010.450000000001|                 266|\n",
      "|2020-01-01 00:00:00|  94|64.24000000000001|                  3|              13.3|                   1|\n",
      "|2020-01-01 00:00:00| 114|             NULL|               NULL| 6256.430000000005|                 333|\n",
      "|2020-01-01 00:00:00| 126|             NULL|               NULL|             170.6|                   2|\n",
      "|2020-01-01 00:00:00| 134|            69.05|                  6|              NULL|                NULL|\n",
      "|2020-01-01 00:00:00| 146|99.36999999999999|                  6|110.74000000000001|                   7|\n",
      "|2020-01-01 00:00:00| 161|             NULL|               NULL| 9410.210000000017|                 488|\n",
      "|2020-01-01 00:00:00| 170|             NULL|               NULL| 8266.010000000018|                 463|\n",
      "|2020-01-01 00:00:00| 192|             12.3|                  1|              NULL|                NULL|\n",
      "|2020-01-01 00:00:00| 231|             NULL|               NULL|           4822.66|                 245|\n",
      "|2020-01-01 00:00:00| 262|             NULL|               NULL|2239.5199999999986|                 149|\n",
      "|2020-01-01 01:00:00|  29|            32.04|                  2|              27.0|                   1|\n",
      "|2020-01-01 01:00:00|  35|           239.37|                  8|              99.4|                   2|\n",
      "|2020-01-01 01:00:00|  37|            88.16|                  4|            736.46|                  24|\n",
      "+-------------------+----+-----------------+-------------------+------------------+--------------------+\n",
      "only showing top 20 rows\n",
      "\n"
     ]
    }
   ],
   "source": [
    "df_joins.show()"
   ]
  },
  {
   "cell_type": "code",
   "execution_count": 43,
   "id": "740db375-10e0-4955-8690-cb41bb1fc1b9",
   "metadata": {},
   "outputs": [
    {
     "name": "stderr",
     "output_type": "stream",
     "text": [
      "24/06/06 18:25:44 WARN MemoryManager: Total allocation exceeds 95.00% (1,020,054,720 bytes) of heap memory\n",
      "Scaling row group sizes to 95.00% for 8 writers\n",
      "                                                                                \r"
     ]
    }
   ],
   "source": [
    "df_joins.write.parquet(\"data/report/revenue/total\", mode=\"overwrite\")"
   ]
  },
  {
   "cell_type": "code",
   "execution_count": 15,
   "id": "7e2b5990-4109-436e-a970-dc6a1010e909",
   "metadata": {},
   "outputs": [],
   "source": [
    "df_joins = spark.read.parquet(\"data/report/revenue/total\")"
   ]
  },
  {
   "cell_type": "code",
   "execution_count": 16,
   "id": "72506d0d-7e9b-427a-aec7-e02bbba3e290",
   "metadata": {},
   "outputs": [
    {
     "data": {
      "text/plain": [
       "DataFrame[hour: timestamp, zone: int, green_amount: double, green_number_record: bigint, yellow_amount: double, yellow_number_record: bigint]"
      ]
     },
     "execution_count": 16,
     "metadata": {},
     "output_type": "execute_result"
    }
   ],
   "source": [
    "df_joins"
   ]
  },
  {
   "cell_type": "code",
   "execution_count": 13,
   "id": "754a347a-3682-4a9e-8676-235868d66dc9",
   "metadata": {},
   "outputs": [],
   "source": [
    "df_zones = spark.read.parquet(\"zones/\")"
   ]
  },
  {
   "cell_type": "code",
   "execution_count": 14,
   "id": "b02d5e7c-ff87-453e-a2a9-dfb250d1e50e",
   "metadata": {},
   "outputs": [
    {
     "name": "stdout",
     "output_type": "stream",
     "text": [
      "+----------+-------------+--------------------+------------+\n",
      "|LocationID|      Borough|                Zone|service_zone|\n",
      "+----------+-------------+--------------------+------------+\n",
      "|         1|          EWR|      Newark Airport|         EWR|\n",
      "|         2|       Queens|         Jamaica Bay|   Boro Zone|\n",
      "|         3|        Bronx|Allerton/Pelham G...|   Boro Zone|\n",
      "|         4|    Manhattan|       Alphabet City| Yellow Zone|\n",
      "|         5|Staten Island|       Arden Heights|   Boro Zone|\n",
      "|         6|Staten Island|Arrochar/Fort Wad...|   Boro Zone|\n",
      "|         7|       Queens|             Astoria|   Boro Zone|\n",
      "|         8|       Queens|        Astoria Park|   Boro Zone|\n",
      "|         9|       Queens|          Auburndale|   Boro Zone|\n",
      "|        10|       Queens|        Baisley Park|   Boro Zone|\n",
      "|        11|     Brooklyn|          Bath Beach|   Boro Zone|\n",
      "|        12|    Manhattan|        Battery Park| Yellow Zone|\n",
      "|        13|    Manhattan|   Battery Park City| Yellow Zone|\n",
      "|        14|     Brooklyn|           Bay Ridge|   Boro Zone|\n",
      "|        15|       Queens|Bay Terrace/Fort ...|   Boro Zone|\n",
      "|        16|       Queens|             Bayside|   Boro Zone|\n",
      "|        17|     Brooklyn|             Bedford|   Boro Zone|\n",
      "|        18|        Bronx|        Bedford Park|   Boro Zone|\n",
      "|        19|       Queens|           Bellerose|   Boro Zone|\n",
      "|        20|        Bronx|             Belmont|   Boro Zone|\n",
      "+----------+-------------+--------------------+------------+\n",
      "only showing top 20 rows\n",
      "\n"
     ]
    }
   ],
   "source": [
    "df_zones.show()"
   ]
  },
  {
   "cell_type": "code",
   "execution_count": 18,
   "id": "e25a7ecf-cf3c-4222-8899-a9070591be61",
   "metadata": {},
   "outputs": [],
   "source": [
    "df_result = df_joins.join(df_zones, df_joins.zone == df_zones.LocationID)"
   ]
  },
  {
   "cell_type": "code",
   "execution_count": 21,
   "id": "3531205c-f9ee-44b9-8da1-dffc77a9c093",
   "metadata": {},
   "outputs": [
    {
     "name": "stderr",
     "output_type": "stream",
     "text": [
      "24/06/07 13:58:33 WARN MemoryManager: Total allocation exceeds 95.00% (1,020,054,720 bytes) of heap memory\n",
      "Scaling row group sizes to 95.00% for 8 writers\n",
      "                                                                                \r"
     ]
    }
   ],
   "source": [
    "df_result.drop(\"LocationID\", \"zone\").write.parquet(\"data/tmp/revenue_zones\")"
   ]
  },
  {
   "cell_type": "code",
   "execution_count": null,
   "id": "517f641b-e646-4577-99eb-5b3d1909421c",
   "metadata": {},
   "outputs": [],
   "source": []
  }
 ],
 "metadata": {
  "kernelspec": {
   "display_name": "Python 3 (ipykernel)",
   "language": "python",
   "name": "python3"
  },
  "language_info": {
   "codemirror_mode": {
    "name": "ipython",
    "version": 3
   },
   "file_extension": ".py",
   "mimetype": "text/x-python",
   "name": "python",
   "nbconvert_exporter": "python",
   "pygments_lexer": "ipython3",
   "version": "3.10.12"
  }
 },
 "nbformat": 4,
 "nbformat_minor": 5
}
